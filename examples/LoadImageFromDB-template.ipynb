{
 "cells": [
  {
   "cell_type": "code",
   "execution_count": null,
   "metadata": {},
   "outputs": [],
   "source": [
    "import os\n",
    "import datetime\n",
    "import h5py\n",
    "import numpy as np\n",
    "import imageio\n",
    "import matplotlib.pyplot as plt\n",
    "from matplotlib.colors import LogNorm\n",
    "\n",
    "from databroker import Broker\n",
    "from eiger_io.fs_handler import EigerHandler"
   ]
  },
  {
   "cell_type": "code",
   "execution_count": null,
   "metadata": {},
   "outputs": [],
   "source": [
    "db = Broker.named('chx')\n",
    "db.reg.register_handler('AD_EIGER2', EigerHandler, overwrite=True)"
   ]
  },
  {
   "cell_type": "code",
   "execution_count": null,
   "metadata": {
    "collapsed": true
   },
   "outputs": [],
   "source": [
    "def save_hdf5(data, filename='data.h5', dataset='dataset', save_dir=None):\n",
    "    \"\"\"Saving data to an hdf5 file.\n",
    "        \n",
    "        Parameters\n",
    "        ----------\n",
    "        data: ndarray\n",
    "            data array to save into hdf5 file\n",
    "        filename: str\n",
    "            the name of the file\n",
    "        dataset: str\n",
    "            the name of the entry in the hdf5 layout\n",
    "        save_dir: None or str\n",
    "            a directory to save the file in\n",
    "        \n",
    "        Returns\n",
    "        -------\n",
    "        status: str\n",
    "            a status string\n",
    "    \"\"\"\n",
    "    if save_dir:\n",
    "        filename = os.path.join(save_dir, filename)\n",
    "    h5f = h5py.File(filename, 'w')\n",
    "    r = h5f.create_dataset(dataset, data=data)\n",
    "    status = '{} created: {}'.format(r, os.path.abspath(filename))\n",
    "    h5f.close()\n",
    "    return status"
   ]
  },
  {
   "cell_type": "markdown",
   "metadata": {},
   "source": [
    "# Get data from Eiger detector"
   ]
  },
  {
   "cell_type": "code",
   "execution_count": null,
   "metadata": {},
   "outputs": [],
   "source": [
    "eiger_uid = 'f4fe7c'\n",
    "hdr_eiger = db[eiger_uid]  # 'eiger4m_single_image' field for hdr.data()\n",
    "time_e = datetime.datetime.fromtimestamp(timestamp=hdr_eiger['start']['time']).strftime('%Y%m%d%H%M')\n",
    "uid_e = hdr_eiger['start']['uid']\n",
    "scan_id_e = hdr_eiger['start']['scan_id']\n",
    "print(f'time: {time_e}\\nuid: {uid_e}\\nscan_id: {scan_id_e}')"
   ]
  },
  {
   "cell_type": "code",
   "execution_count": null,
   "metadata": {},
   "outputs": [],
   "source": [
    "hdr_eiger.table()"
   ]
  },
  {
   "cell_type": "code",
   "execution_count": null,
   "metadata": {},
   "outputs": [],
   "source": [
    "hdr_eiger.fields()"
   ]
  },
  {
   "cell_type": "markdown",
   "metadata": {},
   "source": [
    "### Use the field with an '_image' occurrence"
   ]
  },
  {
   "cell_type": "code",
   "execution_count": null,
   "metadata": {},
   "outputs": [],
   "source": [
    "imgs_eiger = list(hdr_eiger.data('eiger4m_single_image'))"
   ]
  },
  {
   "cell_type": "code",
   "execution_count": null,
   "metadata": {},
   "outputs": [],
   "source": [
    "imgs_eiger[0].shape"
   ]
  },
  {
   "cell_type": "code",
   "execution_count": null,
   "metadata": {},
   "outputs": [],
   "source": [
    "%matplotlib widget\n",
    "plt.imshow(imgs_eiger[0][0], cmap='viridis', norm=LogNorm())"
   ]
  },
  {
   "cell_type": "markdown",
   "metadata": {},
   "source": [
    "# Get data from xray eye camera"
   ]
  },
  {
   "cell_type": "code",
   "execution_count": null,
   "metadata": {},
   "outputs": [],
   "source": [
    "xeye_uid = '44aae6fe'\n",
    "hdr_xeye = db[xeye_uid]  # 'xray_eye3_image' field for hdr.data\n",
    "time_x = datetime.datetime.fromtimestamp(timestamp=hdr_xeye['start']['time']).strftime('%Y%m%d%H%M')\n",
    "uid_x = hdr_xeye['start']['uid']\n",
    "scan_id_x = hdr_xeye['start']['scan_id']\n",
    "print(f'time: {time_x}\\nuid: {uid_x}\\nscan_id: {scan_id_x}')"
   ]
  },
  {
   "cell_type": "code",
   "execution_count": null,
   "metadata": {},
   "outputs": [],
   "source": [
    "hdr_xeye.table()"
   ]
  },
  {
   "cell_type": "code",
   "execution_count": null,
   "metadata": {},
   "outputs": [],
   "source": [
    "hdr_xeye.fields()"
   ]
  },
  {
   "cell_type": "markdown",
   "metadata": {},
   "source": [
    "### Use the field with an '_image' occurrence"
   ]
  },
  {
   "cell_type": "code",
   "execution_count": null,
   "metadata": {},
   "outputs": [],
   "source": [
    "imgs_xeye = list(hdr_xeye.data('xray_eye3_image'))"
   ]
  },
  {
   "cell_type": "code",
   "execution_count": null,
   "metadata": {},
   "outputs": [],
   "source": [
    "imgs_xeye[0].shape"
   ]
  },
  {
   "cell_type": "code",
   "execution_count": null,
   "metadata": {},
   "outputs": [],
   "source": [
    "%matplotlib widget\n",
    "plt.imshow(np.mean(imgs_xeye[0], axis=0), cmap='gray')"
   ]
  },
  {
   "cell_type": "markdown",
   "metadata": {},
   "source": [
    "# Get tabular data"
   ]
  },
  {
   "cell_type": "code",
   "execution_count": null,
   "metadata": {},
   "outputs": [],
   "source": [
    "hdr_tab = db['635f98ba']"
   ]
  },
  {
   "cell_type": "code",
   "execution_count": null,
   "metadata": {},
   "outputs": [],
   "source": [
    "tbl = hdr_tab.table()\n",
    "tbl"
   ]
  },
  {
   "cell_type": "code",
   "execution_count": null,
   "metadata": {},
   "outputs": [],
   "source": [
    "tbl.plot(x='smp_y', y='mca_xs_channel1_rois_roi01_value_sum', grid=True)"
   ]
  },
  {
   "cell_type": "code",
   "execution_count": null,
   "metadata": {},
   "outputs": [],
   "source": [
    "tbl.to_csv('/home/mrakitin/work/CHX/exported.csv')"
   ]
  },
  {
   "cell_type": "markdown",
   "metadata": {},
   "source": [
    "# Save Eiger data to TIFF and HDF5 files"
   ]
  },
  {
   "cell_type": "code",
   "execution_count": null,
   "metadata": {
    "collapsed": true
   },
   "outputs": [],
   "source": [
    "filename = '{}_{}_{}'.format(time_e, eiger_uid, scan_id_e)\n",
    "filename_tiff= '{}.{}'.format(filename, 'tiff')\n",
    "filename_h5 = '{}.{}'.format(filename, 'h5')\n",
    "print(filename_tiff)\n",
    "print(filename_h5)"
   ]
  },
  {
   "cell_type": "code",
   "execution_count": null,
   "metadata": {},
   "outputs": [],
   "source": [
    "imageio.imwrite(os.path.join('/home/mrakitin/work/CHX/', filename_tiff), imgs_eiger[0][0])"
   ]
  },
  {
   "cell_type": "code",
   "execution_count": null,
   "metadata": {
    "collapsed": true
   },
   "outputs": [],
   "source": [
    "status = save_hdf5(imgs_eiger, filename=filename_h5, dataset='dataset',\n",
    "                   save_dir='/home/mrakitin/work/CHX/')\n",
    "print(status)"
   ]
  },
  {
   "cell_type": "code",
   "execution_count": null,
   "metadata": {
    "collapsed": true
   },
   "outputs": [],
   "source": []
  }
 ],
 "metadata": {
  "kernelspec": {
   "display_name": "CHX (current)",
   "language": "python",
   "name": "analysis-2018-2.1_srv1"
  },
  "language_info": {
   "codemirror_mode": {
    "name": "ipython",
    "version": 3
   },
   "file_extension": ".py",
   "mimetype": "text/x-python",
   "name": "python",
   "nbconvert_exporter": "python",
   "pygments_lexer": "ipython3",
   "version": "3.6.5"
  }
 },
 "nbformat": 4,
 "nbformat_minor": 2
}
